{
 "cells": [
  {
   "cell_type": "markdown",
   "metadata": {},
   "source": [
    "How does sociability affect a person's mobility variety?"
   ]
  },
  {
   "cell_type": "code",
   "execution_count": 1,
   "metadata": {},
   "outputs": [],
   "source": [
    "import pandas as pd \n",
    "import numpy as np\n",
    "import matplotlib.pyplot as plt\n",
    "import geopy.distance\n",
    "from sklearn.metrics.pairwise import cosine_similarity"
   ]
  },
  {
   "cell_type": "code",
   "execution_count": 2,
   "metadata": {},
   "outputs": [],
   "source": [
    "checkin_index = ['UserID', 'VenueID', 'time', 'time_offset']\n",
    "checkins = pd.read_csv(\"data/checkins_anonymized.txt\", sep='\\t', names = checkin_index)"
   ]
  },
  {
   "cell_type": "code",
   "execution_count": 3,
   "metadata": {},
   "outputs": [],
   "source": [
    "friendship_index = ['UserID1', 'UserID2']\n",
    "friendship_old = pd.read_csv(\"data/friendship_old.txt\", sep='\\t', names = friendship_index)\n",
    "friendship_new = pd.read_csv(\"data/friendship_new.txt\", sep='\\t', names = friendship_index)"
   ]
  },
  {
   "cell_type": "code",
   "execution_count": 4,
   "metadata": {},
   "outputs": [],
   "source": [
    "POI_index = ['VenueID', 'latitude', 'longitude', 'category', 'country'] #total 519 categories\n",
    "POI = pd.read_csv(\"data/raw_POIs.txt\", sep='\\t', names = POI_index)"
   ]
  },
  {
   "cell_type": "code",
   "execution_count": 5,
   "metadata": {},
   "outputs": [],
   "source": [
    "# Second: influence of sociability, e.g. compute the cosine similarity between users who have less/more friends"
   ]
  },
  {
   "cell_type": "code",
   "execution_count": 6,
   "metadata": {},
   "outputs": [],
   "source": [
    "# Compute number of friends for each user based on friendship_new\n",
    "\n",
    "user_sociability =  pd.concat([friendship_new['UserID1'],friendship_new['UserID2']], axis=0)\n",
    "user_sociability = user_sociability.value_counts()\n",
    "user_sociability.name = 'sociability'\n",
    "user_sociability = user_sociability.reset_index()"
   ]
  },
  {
   "cell_type": "code",
   "execution_count": 90,
   "metadata": {
    "scrolled": true
   },
   "outputs": [],
   "source": [
    "bins = np.logspace(0, 2.75, 8)\n",
    "bin_centers = 0.5*(bins[1:] + bins[:-1])\n",
    "\n",
    "user_sociability_c = user_sociability.sample(len(user_sociability)//10)\n",
    "user_sociability_c.reset_index(drop=True)\n",
    "\n",
    "bin_data = []\n",
    "for i in range(len(bin_centers)):\n",
    "    index = (user_sociability_c['sociability'] >= bins[i]) & (user_sociability_c['sociability'] < bins[i+1])\n",
    "    current_users = user_sociability_c[index]\n",
    "    bin_data.append(current_users)"
   ]
  },
  {
   "cell_type": "code",
   "execution_count": 91,
   "metadata": {},
   "outputs": [],
   "source": [
    "# Replace each user with their visit vector\n",
    "\n",
    "venue_category = POI[['VenueID', 'category']]\n",
    "user_checkin = checkins[['UserID', 'VenueID']]\n",
    "user_category = user_checkin.merge(venue_category, left_on='VenueID', right_on='VenueID')\n",
    "user_category = user_category[['UserID', 'category']]\n",
    "\n",
    "categories = user_category['category'].unique()"
   ]
  },
  {
   "cell_type": "code",
   "execution_count": 92,
   "metadata": {},
   "outputs": [],
   "source": [
    "def user_to_locvector(x):\n",
    "    location_vector = [0]*len(categories)\n",
    "    user_categories = user_category[user_category['UserID'] == x]\n",
    "    for category in user_categories['category']:\n",
    "        location_vector[categories_idx[category]] += 1\n",
    "    return location_vector\n",
    "\n",
    "categories_idx = dict(zip(categories, range(len(categories))))\n",
    "\n",
    "bin_data_vectors = [list(data['index']) for data in bin_data]\n",
    "\n",
    "for i in range(len(bin_data_vectors)):\n",
    "    for j in range(len(bin_data_vectors[i])):\n",
    "        bin_data_vectors[i][j] = user_to_locvector(bin_data_vectors[i][j])"
   ]
  },
  {
   "cell_type": "code",
   "execution_count": 93,
   "metadata": {},
   "outputs": [],
   "source": [
    "# Compute cosine similarity within each bin\n",
    "similarities = [cosine_similarity(bin).mean() for bin in bin_data_vectors]"
   ]
  },
  {
   "cell_type": "code",
   "execution_count": 100,
   "metadata": {},
   "outputs": [
    {
     "data": {
      "image/png": "[encoded data removed]",
      "text/plain": [
       "<Figure size 756x612 with 1 Axes>"
      ]
     },
     "metadata": {
      "needs_background": "light"
     },
     "output_type": "display_data"
    }
   ],
   "source": [
    "fig = plt.figure(figsize=(10.5, 8.5))\n",
    "ax = fig.add_subplot(111)\n",
    "\n",
    "# The last category usually only contain outliers (even with a log scale they are still outliers, so better remove them)\n",
    "plt.plot(bin_centers[:-1], similarities[:-1], 'b', markersize=25, marker='o', markeredgewidth=2, fillstyle='none')\n",
    "\n",
    "ax.set_xscale('log')\n",
    "\n",
    "plt.ylabel(\"Cosine similartiy between users of similar sociability\")\n",
    "plt.xlabel(\"Number of friends\")\n",
    "\n",
    "\n",
    "plt.show()"
   ]
  },
  {
   "cell_type": "markdown",
   "metadata": {},
   "source": [
    "From the plot's we can conclude that the more friends a person has, the (very slightly) less \"unique\" she is, in the sense that their cosine similarity with people who have approximatly as much is higher the more a person has friends.\n",
    "\n",
    "Note however the difference is not too large (in this case similarty goes from 0.19 to 0.23) so the effect of sociability is not actually a big factor is how unique a person's mouvements are. However, after running the code re-sampling quite a few time we however do observe the same pattern every time: a somewhat constant value for consine similarity followed by a large increase above 100 friends, so there is a pattern.\n",
    "\n",
    "An explanation that comes to mind is that there are less users with a very high number of friends, so it could be expected that the \"variance\" in this group will less likely be large (it is less likely to find many \"unique\" users if the group of users is smaller).\n",
    "\n",
    "This could also be explained by the fact that the more a person has friends, the most likely they will get influenced by their friends, so their mouvements are usually less unique (and might follow trends).\n",
    "\n",
    "From this observation we could conclde that there is a correlation between a person's sociability and the uniqueness of their movement, but that influence is not a major factor."
   ]
  },
  {
   "cell_type": "code",
   "execution_count": null,
   "metadata": {},
   "outputs": [],
   "source": []
  }
 ],
 "metadata": {
  "kernelspec": {
   "display_name": "Python 3",
   "language": "python",
   "name": "python3"
  },
  "language_info": {
   "codemirror_mode": {
    "name": "ipython",
    "version": 3
   },
   "file_extension": ".py",
   "mimetype": "text/x-python",
   "name": "python",
   "nbconvert_exporter": "python",
   "pygments_lexer": "ipython3",
   "version": "3.7.9"
  }
 },
 "nbformat": 4,
 "nbformat_minor": 4
}
