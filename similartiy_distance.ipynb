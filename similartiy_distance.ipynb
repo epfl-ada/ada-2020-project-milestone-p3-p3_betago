{
 "cells": [
  {
   "cell_type": "markdown",
   "metadata": {},
   "source": [
    "How does traveling affect a person's mobility variety?"
   ]
  },
  {
   "cell_type": "code",
   "execution_count": 203,
   "metadata": {},
   "outputs": [],
   "source": [
    "import pandas as pd \n",
    "import numpy as np\n",
    "import matplotlib.pyplot as plt\n",
    "import geopy.distance\n",
    "from sklearn.metrics.pairwise import cosine_similarity"
   ]
  },
  {
   "cell_type": "code",
   "execution_count": 13,
   "metadata": {},
   "outputs": [],
   "source": [
    "checkin_index = ['UserID', 'VenueID', 'time', 'time_offset']\n",
    "checkins = pd.read_csv(\"data/checkins_anonymized.txt\", sep='\\t', names = checkin_index)"
   ]
  },
  {
   "cell_type": "code",
   "execution_count": 14,
   "metadata": {},
   "outputs": [],
   "source": [
    "friendship_index = ['UserID1', 'UserID2']\n",
    "friendship_old = pd.read_csv(\"data/friendship_old.txt\", sep='\\t', names = friendship_index)\n",
    "friendship_new = pd.read_csv(\"data/friendship_new.txt\", sep='\\t', names = friendship_index)"
   ]
  },
  {
   "cell_type": "code",
   "execution_count": 20,
   "metadata": {},
   "outputs": [],
   "source": [
    "POI_index = ['VenueID', 'latitude', 'longitude', 'category', 'country'] #total 519 categories\n",
    "POI = pd.read_csv(\"data/raw_POIs.txt\", sep='\\t', names = POS_index)"
   ]
  },
  {
   "cell_type": "code",
   "execution_count": 32,
   "metadata": {},
   "outputs": [],
   "source": [
    "# First: influence of traveling, e.g. compute the cosine similarity between users who travel less/more"
   ]
  },
  {
   "cell_type": "code",
   "execution_count": 63,
   "metadata": {},
   "outputs": [],
   "source": [
    "# Get a df of UserId lat lon\n",
    "\n",
    "checkins_locations = checkins[['UserID','VenueID']]\n",
    "locations_pos = POI[['VenueID', 'latitude', 'longitude']]\n",
    "checkins_locations = checkins_locations.merge(locations_pos, left_on='VenueID', right_on='VenueID')"
   ]
  },
  {
   "cell_type": "code",
   "execution_count": 64,
   "metadata": {},
   "outputs": [],
   "source": [
    "# Compute home for each user\n",
    "\n",
    "user_homes = checkins_locations[['UserID','latitude','longitude']]\n",
    "user_homes = checkins_locations.groupby('UserID').mean()"
   ]
  },
  {
   "cell_type": "code",
   "execution_count": 105,
   "metadata": {},
   "outputs": [],
   "source": [
    "# Divide into bins according to distance to home\n",
    "\n",
    "checkins_locations_distance = checkins_locations.merge(user_homes, left_on='UserID', right_on='UserID', suffixes=['_venue', '_home'])"
   ]
  },
  {
   "cell_type": "code",
   "execution_count": null,
   "metadata": {},
   "outputs": [],
   "source": [
    "def home_distance(x):\n",
    "    return geopy.distance.distance((x['latitude_venue'],x['longitude_venue']),(x['latitude_home'],x['longitude_home'])).km\n",
    "\n",
    "checkins_locations_distance_c = checkins_locations_distance.sample(len(checkins_locations_distance)//20)\n",
    "checkins_locations_distance_c.reset_index(drop=True)\n",
    "\n",
    "checkins_locations_distance_c['home_distance'] = checkins_locations_distance_c.apply(home_distance, axis=1)"
   ]
  },
  {
   "cell_type": "code",
   "execution_count": 129,
   "metadata": {},
   "outputs": [],
   "source": [
    "user_avg_home_distance = checkins_locations_distance_c[['UserID', 'home_distance']]\n",
    "user_avg_home_distance = user_avg_home_distance.groupby('UserID').mean()"
   ]
  },
  {
   "cell_type": "code",
   "execution_count": 182,
   "metadata": {
    "scrolled": true
   },
   "outputs": [],
   "source": [
    "bins = np.logspace(0.1, 4.3,8)\n",
    "bin_centers = 0.5*(bins[1:] + bins[:-1])\n",
    "\n",
    "bin_data = []\n",
    "for i in range(len(bin_centers)):\n",
    "    index = (user_avg_home_distance['home_distance'] >= bins[i]) & (user_avg_home_distance['home_distance'] < bins[i+1])\n",
    "    current_checkins = user_avg_home_distance[index]\n",
    "    bin_data.append(current_checkins)"
   ]
  },
  {
   "cell_type": "code",
   "execution_count": 266,
   "metadata": {},
   "outputs": [],
   "source": [
    "# Replace each user with their visit vector\n",
    "\n",
    "venue_category = POI[['VenueID', 'category']]\n",
    "user_checkin = checkins_locations_distance_c[['UserID', 'VenueID']]\n",
    "user_category = user_checkin.merge(venue_category, left_on='VenueID', right_on='VenueID')\n",
    "user_category = user_category[['UserID', 'category']]\n",
    "\n",
    "categories = user_category['category'].unique()"
   ]
  },
  {
   "cell_type": "code",
   "execution_count": null,
   "metadata": {},
   "outputs": [],
   "source": [
    "categories_idx = dict(zip(categories, range(len(categories))))\n",
    "\n",
    "def user_to_locvector(x):\n",
    "    location_vector = [0]*len(categories)\n",
    "    user_categories = user_category[user_category['UserID'] == x]\n",
    "    for category in user_categories['category']:\n",
    "        location_vector[categories_idx[category]] += 1\n",
    "    return location_vector\n",
    "    \n",
    "def users_to_locvector(x):\n",
    "    print(\"new vec\")\n",
    "    return [user_to_locvector(user) for user in x]\n",
    "\n",
    "bin_data_vectors = [list(data['home_distance'].index) for data in bin_data]\n",
    "\n",
    "for i in range(len(bin_data_vectors)):\n",
    "    for j in range(len(bin_data_vectors[i])):\n",
    "        bin_data_vectors[i][j] = user_to_locvector(bin_data_vectors[i][j])"
   ]
  },
  {
   "cell_type": "code",
   "execution_count": null,
   "metadata": {},
   "outputs": [],
   "source": [
    "# Compute cosine similarity within each bin\n",
    "similarities = [cosine_similarity(bin).mean() for bin in bin_data_vectors]"
   ]
  },
  {
   "cell_type": "code",
   "execution_count": 370,
   "metadata": {},
   "outputs": [
    {
     "data": {
      "image/png": "[encoded data removed]",
      "text/plain": [
       "<Figure size 756x612 with 1 Axes>"
      ]
     },
     "metadata": {
      "needs_background": "light"
     },
     "output_type": "display_data"
    }
   ],
   "source": [
    "fig = plt.figure(figsize=(10.5, 8.5))\n",
    "ax = fig.add_subplot(111)\n",
    "\n",
    "plt.plot(bin_centers, similarities, 'b', markersize=25, marker='o', markeredgewidth=2, fillstyle='none')\n",
    "\n",
    "# Use log axes\n",
    "ax.set_xscale('log')\n",
    "#ax.set_yscale('log')\n",
    "\n",
    "# Set the labels and axes limits in order to get a result similar to the paper\n",
    "plt.ylabel(\"Cosine similartiy as a function of average distance\")\n",
    "plt.xlabel(\"Average distance from home\")\n",
    "\n",
    "\n",
    "plt.show()"
   ]
  },
  {
   "cell_type": "markdown",
   "metadata": {},
   "source": [
    "From the plot we can conclude that the more a person travels, the most \"unique\" it is, in the sense that their cosine similarity with people who travel approximatly as much is lower the more a person travels.\n",
    "\n",
    "This can be explained by a few things: first of all traveling somewhat obligates a person to vary its visits: a Swiss person who travels a lot won't necessarly gain the occasion to eat fondue if she travels a lot! People traveling a lot won't necessarly travel in the same places so it explains that their visits are different from one another.\n",
    "\n",
    "This explication seems satisfying but it cannot explain everything: indeed a group of people traveling an average of 50km will have a much lower similarity than a group who travels in average 5km (decrease of 20%) and show a clear difference as shown in the plot, even though the difference between both average distances is not that large (50km is still probably in the same city or in a neighbor one).\n",
    "\n",
    "From this observation we could conclde that there is a clear correlation between a person's will to vary visits and discover new experiences, and its will to travel furthur (even though all needed amenities are present at a much closer distance)."
   ]
  },
  {
   "cell_type": "code",
   "execution_count": null,
   "metadata": {},
   "outputs": [],
   "source": []
  }
 ],
 "metadata": {
  "kernelspec": {
   "display_name": "Python 3",
   "language": "python",
   "name": "python3"
  },
  "language_info": {
   "codemirror_mode": {
    "name": "ipython",
    "version": 3
   },
   "file_extension": ".py",
   "mimetype": "text/x-python",
   "name": "python",
   "nbconvert_exporter": "python",
   "pygments_lexer": "ipython3",
   "version": "3.7.9"
  }
 },
 "nbformat": 4,
 "nbformat_minor": 4
}
